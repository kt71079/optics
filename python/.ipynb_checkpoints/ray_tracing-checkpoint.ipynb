{
 "cells": [
  {
   "cell_type": "code",
   "execution_count": 71,
   "metadata": {
    "ExecuteTime": {
     "end_time": "2021-08-21T09:22:01.819676Z",
     "start_time": "2021-08-21T09:22:01.816727Z"
    }
   },
   "outputs": [],
   "source": [
    "import numpy as np\n",
    "from matplotlib import pyplot as plt\n",
    "import pandas as pd\n",
    "from IPython.display import display"
   ]
  },
  {
   "cell_type": "markdown",
   "metadata": {},
   "source": [
    "# 近軸光線追跡"
   ]
  },
  {
   "cell_type": "markdown",
   "metadata": {},
   "source": [
    "レンズシステムが与えられたときに，光線高と角度を指定することで近軸光線追跡を実行する"
   ]
  },
  {
   "cell_type": "markdown",
   "metadata": {},
   "source": [
    "レンズシステムの構成要素\n",
    "- 屈折率\n",
    "- 曲率\n",
    "- 面間隔"
   ]
  },
  {
   "cell_type": "code",
   "execution_count": 226,
   "metadata": {
    "ExecuteTime": {
     "end_time": "2021-08-21T10:32:57.652800Z",
     "start_time": "2021-08-21T10:32:57.627804Z"
    }
   },
   "outputs": [],
   "source": [
    "class System:\n",
    "    inf = 1.0e8\n",
    "    def __init__(self, r_list, d_list, n_list):\n",
    "        self.num = len(r_list)\n",
    "        self.r = np.array([None] + r_list)\n",
    "        self.d = np.array([None] + d_list + [None])\n",
    "        self.n = np.array(n_list)\n",
    "        self.e = np.full(self.num+1, None)\n",
    "        for i in range(1, self.num):\n",
    "            self.e[i] = self.d[i]/self.n[i]\n",
    "        # curveture\n",
    "        self.c = np.full(self.num + 1, None)\n",
    "        for i in range(self.num + 1):\n",
    "            if self.r[i] == 0:\n",
    "                self.c[i] = 0\n",
    "            elif self.r[i] is None:\n",
    "                self.c[i] = None\n",
    "            else:\n",
    "                self.c[i] = 1/self.r[i]\n",
    "        # power calc\n",
    "        self.phi = np.full(self.num + 1, None)\n",
    "        for i in range(1, self.num+1):\n",
    "            self.phi[i] = (self.n[i]-self.n[i-1])*self.c[i]\n",
    "        \n",
    "        \n",
    "        self.data = pd.DataFrame(data=np.vstack([self.r, self.d, self.n, self.e, self.phi]).T,\n",
    "                                 columns=['r', 'd', 'n', 'e', 'phi'])\n",
    "        \n",
    "        result = self.parax(1, 0)\n",
    "        self.bf = result['ss'][self.num]\n",
    "        self.f = 1/result['u'][self.num]\n",
    "        self.bo = self.bf-self.f\n",
    "        \n",
    "        self.inv()\n",
    "        inv_result = self.parax(1, 0)\n",
    "        self.ff = inv_result['ss'][self.num]\n",
    "        self.inv_f = 1/inv_result['u'][self.num]\n",
    "        self.fo = self.f-self.ff\n",
    "        self.inv()\n",
    "        \n",
    "        if self.inv_f == self.f:\n",
    "            print('inv_f == f')\n",
    "        \n",
    "        self.h = np.sum(self.d[1:-1]) + self.bf - self.ff\n",
    "        \n",
    "        print('system is defined as follows;')\n",
    "        print(self.data)\n",
    "        print(f\"f={self.f:.5f}, bf={self.bf:.5f}, bo={self.bo:.5f}, \"\n",
    "              f\"ff={self.ff:.5f}, fo ={self.fo:.5f}, h={self.h:.5f}\")\n",
    "    \n",
    "    def parax(self, h1, u1):\n",
    "        h = np.full(self.num + 1, None)\n",
    "        u = np.full(self.num + 1, None)\n",
    "        a = np.full(self.num + 1, None)\n",
    "        s = np.full(self.num + 1, None)\n",
    "        ss = np.full(self.num + 1, None)\n",
    "        h[0] = h1\n",
    "        u[0] = u1\n",
    "        a[0] = u1*n[0]\n",
    "        \n",
    "        for i in range(self.num):\n",
    "            s[i] = self.calc_s(h[i], u[i])\n",
    "            a[i+1] = a[i] + h[i]*self.phi[i+1]\n",
    "            u[i+1] = a[i+1]/n[i+1]\n",
    "            ss[i+1] = self.calc_s(h[i], u[i+1])\n",
    "            if i < self.num - 1:\n",
    "                h[i+1] = h[i] - self.e[i+1]*a[i+1]\n",
    "        \n",
    "        parax_result = pd.DataFrame(data=np.vstack([h, u, a, s, ss]).T,\n",
    "                                   columns=['h', 'u', 'a', 's', 'ss'])\n",
    "        return parax_result\n",
    "        \n",
    "    def inv(self):\n",
    "        inv_r = np.full(self.num+1, None)\n",
    "        inv_d = np.full(self.num+1, None)\n",
    "        inv_n = np.full(self.num+1, None)\n",
    "        inv_e = np.full(self.num+1, None)\n",
    "        inv_phi = np.full(self.num+1, None)\n",
    "        inv_r[1:] = -self.r[::-1][:-1]\n",
    "        inv_d = self.d[::-1]\n",
    "        inv_n = self.n[::-1]\n",
    "        inv_e = self.e[::-1]\n",
    "        inv_phi[1:] = self.phi[::-1][:-1]\n",
    "        self.r = inv_r\n",
    "        self.d = inv_d\n",
    "        self.n = inv_n\n",
    "        self.e = inv_e\n",
    "        self.phi = inv_phi\n",
    "        self.data = pd.DataFrame(data=np.vstack([self.r, self.d, self.n, self.e, self.phi]).T,\n",
    "                                 columns=['r', 'd', 'n', 'e', 'phi'])\n",
    "    \n",
    "    def calc_s(self, h, u):\n",
    "        if u == 0:\n",
    "            return System.inf\n",
    "        else:\n",
    "            return h/u"
   ]
  },
  {
   "cell_type": "markdown",
   "metadata": {},
   "source": [
    "簡単な例として\n",
    "\n",
    "|  No  |  r  |  d |  n  |\n",
    "| ---- | ---- | ---- | ---- |\n",
    "|  0  |  |  | 1 |\n",
    "|  1  |  50  |  0  |  1.51633  |\n",
    "|  2  |  0  |  | 1 |\n",
    "\n",
    "で，h1=1, u1=0 で追跡"
   ]
  },
  {
   "cell_type": "code",
   "execution_count": 227,
   "metadata": {
    "ExecuteTime": {
     "end_time": "2021-08-21T10:32:58.278242Z",
     "start_time": "2021-08-21T10:32:58.268434Z"
    }
   },
   "outputs": [
    {
     "name": "stdout",
     "output_type": "stream",
     "text": [
      "inv_f == f\n",
      "system is defined as follows;\n",
      "      r     d        n     e        phi\n",
      "0  None  None        1  None       None\n",
      "1    50     0  1.51633     0  0.0103266\n",
      "2     0  None        1  None         -0\n",
      "f=96.83729, bf=96.83729, bo=0.00000, ff=96.83729, fo =0.00000, h=0.00000\n"
     ]
    }
   ],
   "source": [
    "r = [50, 0]\n",
    "d = [0]\n",
    "n = [1, 1.51633, 1]\n",
    "test = System(r, d, n)"
   ]
  },
  {
   "cell_type": "code",
   "execution_count": 228,
   "metadata": {
    "ExecuteTime": {
     "end_time": "2021-08-21T10:33:00.126938Z",
     "start_time": "2021-08-21T10:33:00.118022Z"
    }
   },
   "outputs": [
    {
     "data": {
      "text/html": [
       "<div>\n",
       "<style scoped>\n",
       "    .dataframe tbody tr th:only-of-type {\n",
       "        vertical-align: middle;\n",
       "    }\n",
       "\n",
       "    .dataframe tbody tr th {\n",
       "        vertical-align: top;\n",
       "    }\n",
       "\n",
       "    .dataframe thead th {\n",
       "        text-align: right;\n",
       "    }\n",
       "</style>\n",
       "<table border=\"1\" class=\"dataframe\">\n",
       "  <thead>\n",
       "    <tr style=\"text-align: right;\">\n",
       "      <th></th>\n",
       "      <th>h</th>\n",
       "      <th>u</th>\n",
       "      <th>a</th>\n",
       "      <th>s</th>\n",
       "      <th>ss</th>\n",
       "    </tr>\n",
       "  </thead>\n",
       "  <tbody>\n",
       "    <tr>\n",
       "      <td>0</td>\n",
       "      <td>1</td>\n",
       "      <td>0</td>\n",
       "      <td>0</td>\n",
       "      <td>1e+08</td>\n",
       "      <td>None</td>\n",
       "    </tr>\n",
       "    <tr>\n",
       "      <td>1</td>\n",
       "      <td>1</td>\n",
       "      <td>0.00681026</td>\n",
       "      <td>0.0103266</td>\n",
       "      <td>146.837</td>\n",
       "      <td>146.837</td>\n",
       "    </tr>\n",
       "    <tr>\n",
       "      <td>2</td>\n",
       "      <td>None</td>\n",
       "      <td>0.0103266</td>\n",
       "      <td>0.0103266</td>\n",
       "      <td>None</td>\n",
       "      <td>96.8373</td>\n",
       "    </tr>\n",
       "  </tbody>\n",
       "</table>\n",
       "</div>"
      ],
      "text/plain": [
       "      h           u          a        s       ss\n",
       "0     1           0          0    1e+08     None\n",
       "1     1  0.00681026  0.0103266  146.837  146.837\n",
       "2  None   0.0103266  0.0103266     None  96.8373"
      ]
     },
     "execution_count": 228,
     "metadata": {},
     "output_type": "execute_result"
    }
   ],
   "source": [
    "result = test.parax(1,0)\n",
    "result"
   ]
  },
  {
   "cell_type": "code",
   "execution_count": 229,
   "metadata": {
    "ExecuteTime": {
     "end_time": "2021-08-21T10:33:00.285121Z",
     "start_time": "2021-08-21T10:33:00.276538Z"
    }
   },
   "outputs": [
    {
     "name": "stdout",
     "output_type": "stream",
     "text": [
      "inv_f == f\n",
      "system is defined as follows;\n",
      "      r     d        n     e        phi\n",
      "0  None  None        1  None       None\n",
      "1    50     0  1.52621     0  0.0105242\n",
      "2     0  None        1  None         -0\n",
      "f=95.01910, bf=95.01910, bo=0.00000, ff=95.01910, fo =0.00000, h=0.00000\n"
     ]
    }
   ],
   "source": [
    "r = [50, 0]\n",
    "d = [0]\n",
    "n = [1, 1.52621, 1]\n",
    "test = System(r, d, n)"
   ]
  },
  {
   "cell_type": "code",
   "execution_count": 230,
   "metadata": {
    "ExecuteTime": {
     "end_time": "2021-08-21T10:33:00.462654Z",
     "start_time": "2021-08-21T10:33:00.453839Z"
    }
   },
   "outputs": [
    {
     "data": {
      "text/html": [
       "<div>\n",
       "<style scoped>\n",
       "    .dataframe tbody tr th:only-of-type {\n",
       "        vertical-align: middle;\n",
       "    }\n",
       "\n",
       "    .dataframe tbody tr th {\n",
       "        vertical-align: top;\n",
       "    }\n",
       "\n",
       "    .dataframe thead th {\n",
       "        text-align: right;\n",
       "    }\n",
       "</style>\n",
       "<table border=\"1\" class=\"dataframe\">\n",
       "  <thead>\n",
       "    <tr style=\"text-align: right;\">\n",
       "      <th></th>\n",
       "      <th>h</th>\n",
       "      <th>u</th>\n",
       "      <th>a</th>\n",
       "      <th>s</th>\n",
       "      <th>ss</th>\n",
       "    </tr>\n",
       "  </thead>\n",
       "  <tbody>\n",
       "    <tr>\n",
       "      <td>0</td>\n",
       "      <td>1</td>\n",
       "      <td>0</td>\n",
       "      <td>0</td>\n",
       "      <td>1e+08</td>\n",
       "      <td>None</td>\n",
       "    </tr>\n",
       "    <tr>\n",
       "      <td>1</td>\n",
       "      <td>1</td>\n",
       "      <td>0.00689564</td>\n",
       "      <td>0.0105242</td>\n",
       "      <td>145.019</td>\n",
       "      <td>145.019</td>\n",
       "    </tr>\n",
       "    <tr>\n",
       "      <td>2</td>\n",
       "      <td>None</td>\n",
       "      <td>0.0105242</td>\n",
       "      <td>0.0105242</td>\n",
       "      <td>None</td>\n",
       "      <td>95.0191</td>\n",
       "    </tr>\n",
       "  </tbody>\n",
       "</table>\n",
       "</div>"
      ],
      "text/plain": [
       "      h           u          a        s       ss\n",
       "0     1           0          0    1e+08     None\n",
       "1     1  0.00689564  0.0105242  145.019  145.019\n",
       "2  None   0.0105242  0.0105242     None  95.0191"
      ]
     },
     "execution_count": 230,
     "metadata": {},
     "output_type": "execute_result"
    }
   ],
   "source": [
    "result = test.parax(1,0)\n",
    "result"
   ]
  },
  {
   "cell_type": "code",
   "execution_count": 231,
   "metadata": {
    "ExecuteTime": {
     "end_time": "2021-08-21T10:33:01.262136Z",
     "start_time": "2021-08-21T10:33:01.251406Z"
    }
   },
   "outputs": [
    {
     "name": "stdout",
     "output_type": "stream",
     "text": [
      "inv_f == f\n",
      "system is defined as follows;\n",
      "        r     d       n         e         phi\n",
      "0    None  None       1      None        None\n",
      "1   64.26   2.5  1.5725   1.58983  0.00890912\n",
      "2  -31.52  1.25  1.6129  0.775002 -0.00128173\n",
      "3 -262.47  None       1      None  0.00233512\n",
      "f=100.66681, bf=98.64449, bo=-2.02232, ff=100.31567, fo =0.35114, h=2.07882\n"
     ]
    }
   ],
   "source": [
    "r = [64.26, -31.52, -262.47]\n",
    "d = [2.5, 1.25]\n",
    "n = [1, 1.5725, 1.6129, 1]\n",
    "test = System(r, d, n)"
   ]
  },
  {
   "cell_type": "code",
   "execution_count": 233,
   "metadata": {
    "ExecuteTime": {
     "end_time": "2021-08-21T10:33:02.669743Z",
     "start_time": "2021-08-21T10:33:02.661158Z"
    },
    "scrolled": true
   },
   "outputs": [
    {
     "data": {
      "text/html": [
       "<div>\n",
       "<style scoped>\n",
       "    .dataframe tbody tr th:only-of-type {\n",
       "        vertical-align: middle;\n",
       "    }\n",
       "\n",
       "    .dataframe tbody tr th {\n",
       "        vertical-align: top;\n",
       "    }\n",
       "\n",
       "    .dataframe thead th {\n",
       "        text-align: right;\n",
       "    }\n",
       "</style>\n",
       "<table border=\"1\" class=\"dataframe\">\n",
       "  <thead>\n",
       "    <tr style=\"text-align: right;\">\n",
       "      <th></th>\n",
       "      <th>h</th>\n",
       "      <th>u</th>\n",
       "      <th>a</th>\n",
       "      <th>s</th>\n",
       "      <th>ss</th>\n",
       "    </tr>\n",
       "  </thead>\n",
       "  <tbody>\n",
       "    <tr>\n",
       "      <td>0</td>\n",
       "      <td>1</td>\n",
       "      <td>0</td>\n",
       "      <td>0</td>\n",
       "      <td>1e+08</td>\n",
       "      <td>None</td>\n",
       "    </tr>\n",
       "    <tr>\n",
       "      <td>1</td>\n",
       "      <td>0.985836</td>\n",
       "      <td>0.00566558</td>\n",
       "      <td>0.00890912</td>\n",
       "      <td>174.005</td>\n",
       "      <td>176.505</td>\n",
       "    </tr>\n",
       "    <tr>\n",
       "      <td>2</td>\n",
       "      <td>0.979911</td>\n",
       "      <td>0.00474025</td>\n",
       "      <td>0.00764555</td>\n",
       "      <td>206.721</td>\n",
       "      <td>207.971</td>\n",
       "    </tr>\n",
       "    <tr>\n",
       "      <td>3</td>\n",
       "      <td>None</td>\n",
       "      <td>0.00993376</td>\n",
       "      <td>0.00993376</td>\n",
       "      <td>None</td>\n",
       "      <td>98.6445</td>\n",
       "    </tr>\n",
       "  </tbody>\n",
       "</table>\n",
       "</div>"
      ],
      "text/plain": [
       "          h           u           a        s       ss\n",
       "0         1           0           0    1e+08     None\n",
       "1  0.985836  0.00566558  0.00890912  174.005  176.505\n",
       "2  0.979911  0.00474025  0.00764555  206.721  207.971\n",
       "3      None  0.00993376  0.00993376     None  98.6445"
      ]
     },
     "execution_count": 233,
     "metadata": {},
     "output_type": "execute_result"
    }
   ],
   "source": [
    "result = test.parax(1,0)\n",
    "result"
   ]
  },
  {
   "cell_type": "code",
   "execution_count": null,
   "metadata": {},
   "outputs": [],
   "source": []
  }
 ],
 "metadata": {
  "kernelspec": {
   "display_name": "Python 3",
   "language": "python",
   "name": "python3"
  },
  "language_info": {
   "codemirror_mode": {
    "name": "ipython",
    "version": 3
   },
   "file_extension": ".py",
   "mimetype": "text/x-python",
   "name": "python",
   "nbconvert_exporter": "python",
   "pygments_lexer": "ipython3",
   "version": "3.7.4"
  },
  "toc": {
   "base_numbering": 1,
   "nav_menu": {},
   "number_sections": true,
   "sideBar": true,
   "skip_h1_title": false,
   "title_cell": "Table of Contents",
   "title_sidebar": "Contents",
   "toc_cell": false,
   "toc_position": {},
   "toc_section_display": true,
   "toc_window_display": false
  }
 },
 "nbformat": 4,
 "nbformat_minor": 2
}
